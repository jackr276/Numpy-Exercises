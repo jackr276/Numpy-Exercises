{
 "cells": [
  {
   "cell_type": "markdown",
   "metadata": {},
   "source": [
    "# Jack Robbins\n",
    "## 10/28/2022\n",
    "## Numpy Exercises \n",
    "Textbook exercises: 7.1, 7.3, 7.4, 7.5"
   ]
  },
  {
   "cell_type": "code",
   "execution_count": 1,
   "metadata": {},
   "outputs": [],
   "source": [
    "#Need Numpy to do exercises\n",
    "import numpy as np"
   ]
  },
  {
   "cell_type": "markdown",
   "metadata": {},
   "source": [
    "7.1 (Filling arrays) Fill a 2-by-3 array with ones, a 3-by-3 array with zeros and a 2-by-5 array with 7s."
   ]
  },
  {
   "cell_type": "code",
   "execution_count": 9,
   "metadata": {},
   "outputs": [],
   "source": [
    "arr_2by3 = np.array([[1,1,1,], [1,1,1]])\n",
    "\n",
    "arr_3by3 = np.array([[0,0,0], [0,0,0], [0,0,0]])\n",
    "\n",
    "arr_2by5 = np.array([[7,7,7,7,7],[7,7,7,7,7]])\n"
   ]
  },
  {
   "cell_type": "markdown",
   "metadata": {},
   "source": [
    "7.3 (Element-Wise array Multiplication) Create a 3-by-3 array containing the even integers from 2 through 18. Create a second 3-by-3 array containing the integers from 9 down to 1, then multiply the first array by the second."
   ]
  },
  {
   "cell_type": "code",
   "execution_count": 12,
   "metadata": {},
   "outputs": [
    {
     "name": "stdout",
     "output_type": "stream",
     "text": [
      "[[18 32 42]\n",
      " [48 50 48]\n",
      " [42 32 18]]\n"
     ]
    }
   ],
   "source": [
    "even_int_arr = np.array([[2, 4, 6], [8,10,12], [14,16,18]])\n",
    "less_9_arr = np.array([[9,8,7], [6,5,4], [3,2,1]])\n",
    "multiplied = np.multiply(even_int_arr, less_9_arr)\n",
    "print(multiplied)"
   ]
  },
  {
   "cell_type": "markdown",
   "metadata": {},
   "source": [
    "7.4 (array from List of Lists) Create a 2-by-5 array from an argument which is a list of the two five-element lists [2, 3, 5, 7, 11] and [13, 17, 19, 23, 29]."
   ]
  },
  {
   "cell_type": "code",
   "execution_count": 13,
   "metadata": {},
   "outputs": [
    {
     "name": "stdout",
     "output_type": "stream",
     "text": [
      "[[ 2  3  5  7 11]\n",
      " [13 17 19 23 29]]\n"
     ]
    }
   ],
   "source": [
    "def array_from_lists(list_of_lists):\n",
    "    return np.array(list_of_lists)\n",
    "\n",
    "\n",
    "\n",
    "array_elements = [[2,3,5,7,11], [13,17,19,23,29]]\n",
    "print(array_from_lists(array_elements))"
   ]
  },
  {
   "cell_type": "markdown",
   "metadata": {},
   "source": [
    "7.9 (Indexing and Slicing arrays) Create an array containing the values 1–15, reshape it into a 3-by-5 array, then use indexing and slicing techniques to perform each of the following operations:\n",
    "\n",
    "1. Select row 2.\n",
    "2. Select column 5. (? There is no column 5. Selecting row 4 instead)\n",
    "3. Select rows 0 and 1.\n",
    "4. Select columns 2–4.\n",
    "5. Select the element that is in row 1 and column 4.\n",
    "6. Select all elements from rows 1 and 2 that are in columns 0, 2 and 4."
   ]
  },
  {
   "cell_type": "code",
   "execution_count": 48,
   "metadata": {},
   "outputs": [
    {
     "name": "stdout",
     "output_type": "stream",
     "text": [
      "[[ 1  2  3  4  5]\n",
      " [ 6  7  8  9 10]\n",
      " [11 12 13 14 15]]\n",
      "Selecting row 2: [11 12 13 14 15]\n",
      "Selecting column 4: [ 5 10 15]\n",
      "Selecting rows 0 and 1:\n",
      "[[ 6  7  8  9 10]\n",
      " [11 12 13 14 15]]\n",
      "Selecting columns 2-4:\n",
      "[[ 3  5]\n",
      " [ 8 10]\n",
      " [13 15]]\n",
      "Selecting the element that is in row 1 and column 4:\n",
      "10\n",
      "Selecting all elements from rows 1 and 2 in columns 0,2,and 4:\n",
      "[[ 6  8 10]\n",
      " [11 13 15]]\n"
     ]
    }
   ],
   "source": [
    "my_arr = np.array([1,2,3,4,5,6,7,8,9,10,11,12,13,14,15]).reshape((3,5))\n",
    "print(my_arr)\n",
    "\n",
    "print(f\"Selecting row 2: {my_arr[2]}\")\n",
    "print(f\"Selecting column 4: {my_arr[:,4]}\")\n",
    "print(f\"Selecting rows 0 and 1:\\n{my_arr[1:]}\")\n",
    "print(f\"Selecting columns 2-4:\\n{my_arr[:,[2,4]]}\")\n",
    "print(f\"Selecting the element that is in row 1 and column 4:\\n{my_arr[1,4]}\")\n",
    "print(f\"Selecting all elements from rows 1 and 2 in columns 0,2,and 4:\\n{my_arr[1:3:,0:5:2]}\")"
   ]
  }
 ],
 "metadata": {
  "kernelspec": {
   "display_name": "Python 3.10.6 64-bit",
   "language": "python",
   "name": "python3"
  },
  "language_info": {
   "codemirror_mode": {
    "name": "ipython",
    "version": 3
   },
   "file_extension": ".py",
   "mimetype": "text/x-python",
   "name": "python",
   "nbconvert_exporter": "python",
   "pygments_lexer": "ipython3",
   "version": "3.10.6"
  },
  "orig_nbformat": 4,
  "vscode": {
   "interpreter": {
    "hash": "916dbcbb3f70747c44a77c7bcd40155683ae19c65e1c03b4aa3499c5328201f1"
   }
  }
 },
 "nbformat": 4,
 "nbformat_minor": 2
}
